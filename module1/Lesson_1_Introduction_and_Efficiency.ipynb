{
  "nbformat": 4,
  "nbformat_minor": 0,
  "metadata": {
    "colab": {
      "name": "Lesson 1: Introduction and Efficiency",
      "provenance": [],
      "authorship_tag": "ABX9TyPv7/oS3d6Avlkiht0wuNY1",
      "include_colab_link": true
    },
    "kernelspec": {
      "name": "python3",
      "display_name": "Python 3"
    }
  },
  "cells": [
    {
      "cell_type": "markdown",
      "metadata": {
        "id": "view-in-github",
        "colab_type": "text"
      },
      "source": [
        "<a href=\"https://colab.research.google.com/github/sandeep92134/UDACITY-Data-Structure-And-Alogrithms-in-python-UD513/blob/master/module1/Lesson_1_Introduction_and_Efficiency.ipynb\" target=\"_parent\"><img src=\"https://colab.research.google.com/assets/colab-badge.svg\" alt=\"Open In Colab\"/></a>"
      ]
    },
    {
      "cell_type": "markdown",
      "metadata": {
        "id": "B6YD3gEHMU6M"
      },
      "source": [
        "# Quiz:\r\n",
        "1. python practice\r\n",
        "2. python basic\r\n",
        "3. efficiency practice\r\n"
      ]
    },
    {
      "cell_type": "markdown",
      "metadata": {
        "id": "2VW4fqdcLkyC"
      },
      "source": [
        "### Python Practice"
      ]
    },
    {
      "cell_type": "code",
      "metadata": {
        "colab": {
          "base_uri": "https://localhost:8080/"
        },
        "id": "ZcSfVvHeLwZ7",
        "outputId": "75b8a015-51e7-4887-ccbb-253da2194af8"
      },
      "source": [
        "\"\"\"You can use this class to represent how classy someone\r\n",
        "or something is.\r\n",
        "\"Classy\" is interchangable with \"fancy\".\r\n",
        "If you add fancy-looking items, you will increase\r\n",
        "your \"classiness\".\r\n",
        "Create a function in \"Classy\" that takes a string as\r\n",
        "input and adds it to the \"items\" list.\r\n",
        "Another method should calculate the \"classiness\"\r\n",
        "value based on the items.\r\n",
        "The following items have classiness points associated\r\n",
        "with them:\r\n",
        "\"tophat\" = 2\r\n",
        "\"bowtie\" = 4\r\n",
        "\"monocle\" = 5\r\n",
        "Everything else has 0 points.\r\n",
        "Use the test cases below to guide you!\"\"\"\r\n",
        "\r\n",
        "class Classy(object):\r\n",
        "    def __init__(self):\r\n",
        "        self.items = []\r\n",
        "    def addItem(self, item):\r\n",
        "        self.items.append(item)\r\n",
        "    def getClassiness(self):\r\n",
        "        totalClassiness = 0\r\n",
        "        classyDict = {\"tophat\":2,\"bowtie\":4,\"monocle\":5}\r\n",
        "        for item in self.items:\r\n",
        "            try:\r\n",
        "                totalClassiness += classyDict[item]\r\n",
        "            except KeyError:\r\n",
        "                pass\r\n",
        "        return totalClassiness\r\n",
        "\r\n",
        "# Test cases\r\n",
        "me = Classy()\r\n",
        "\r\n",
        "# Should be 0\r\n",
        "print (me.getClassiness())\r\n",
        "\r\n",
        "me.addItem(\"tophat\")\r\n",
        "# Should be 2\r\n",
        "print (me.getClassiness())\r\n",
        "\r\n",
        "me.addItem(\"bowtie\")\r\n",
        "me.addItem(\"jacket\")\r\n",
        "me.addItem(\"monocle\")\r\n",
        "# Should be 11\r\n",
        "print (me.getClassiness())\r\n",
        "\r\n",
        "me.addItem(\"bowtie\")\r\n",
        "# Should be 15\r\n",
        "print (me.getClassiness())"
      ],
      "execution_count": null,
      "outputs": [
        {
          "output_type": "stream",
          "text": [
            "0\n",
            "2\n",
            "11\n",
            "15\n"
          ],
          "name": "stdout"
        }
      ]
    },
    {
      "cell_type": "markdown",
      "metadata": {
        "id": "_OG1GeOgNHuX"
      },
      "source": [
        "### solution \r\n",
        "of python practice"
      ]
    },
    {
      "cell_type": "code",
      "metadata": {
        "colab": {
          "base_uri": "https://localhost:8080/"
        },
        "id": "TQdvX48qLfnz",
        "outputId": "b67bbfba-fe50-461d-ad47-92ca59ae7084"
      },
      "source": [
        "class Classy(object):\r\n",
        "    def __init__(self):\r\n",
        "        self.items = []\r\n",
        "\r\n",
        "    def addItem(self, item):\r\n",
        "        self.items.append(item)\r\n",
        "\r\n",
        "    def getClassiness(self):\r\n",
        "        classiness = 0\r\n",
        "        if len(self.items) > 0:\r\n",
        "            for item in self.items:\r\n",
        "                if item == \"tophat\":\r\n",
        "                    classiness += 2\r\n",
        "                elif item == \"bowtie\":\r\n",
        "                    classiness += 4\r\n",
        "                elif item == \"monocle\":\r\n",
        "                    classiness += 5\r\n",
        "        return classiness\r\n",
        "\r\n",
        "# Test cases\r\n",
        "me = Classy()\r\n",
        "\r\n",
        "# Should be 0\r\n",
        "print (me.getClassiness())\r\n",
        "\r\n",
        "me.addItem(\"tophat\")\r\n",
        "# Should be 2\r\n",
        "print (me.getClassiness())\r\n",
        "\r\n",
        "me.addItem(\"bowtie\")\r\n",
        "me.addItem(\"jacket\")\r\n",
        "me.addItem(\"monocle\")\r\n",
        "# Should be 11\r\n",
        "print (me.getClassiness())\r\n",
        "\r\n",
        "me.addItem(\"bowtie\")\r\n",
        "# Should be 15\r\n",
        "print (me.getClassiness())        "
      ],
      "execution_count": null,
      "outputs": [
        {
          "output_type": "stream",
          "text": [
            "0\n",
            "2\n",
            "11\n",
            "15\n"
          ],
          "name": "stdout"
        }
      ]
    },
    {
      "cell_type": "markdown",
      "metadata": {
        "id": "5q6lvTHZI5b6"
      },
      "source": [
        "### Python:The basic"
      ]
    },
    {
      "cell_type": "code",
      "metadata": {
        "colab": {
          "base_uri": "https://localhost:8080/"
        },
        "id": "VKlvCu-IGFEr",
        "outputId": "62eaa6c9-bf6c-44b3-c795-4af148cf83bc"
      },
      "source": [
        "# Write a function called \"show_excitement\" where the string\r\n",
        "# \"I am super excited for this course!\" is returned exactly\r\n",
        "# 5 times, where each sentence is separated by a single space.\r\n",
        "# Return the string with \"return\".\r\n",
        "# You can only have the string once in your code.\r\n",
        "# Don't just copy/paste it 5 times into a single variable!\r\n",
        "\r\n",
        "def show_excitement():\r\n",
        "    # Your code goes here!\r\n",
        "    exc= ''\r\n",
        "    for i in range(5):\r\n",
        "        exc += \"I am super excited for this course! \"\r\n",
        "    return exc[:-1]\r\n",
        "    \r\n",
        "print (show_excitement())"
      ],
      "execution_count": null,
      "outputs": [
        {
          "output_type": "stream",
          "text": [
            "I am super excited for this course! I am super excited for this course! I am super excited for this course! I am super excited for this course! I am super excited for this course!\n"
          ],
          "name": "stdout"
        }
      ]
    },
    {
      "cell_type": "markdown",
      "metadata": {
        "id": "KlmZ7cZ-RgMm"
      },
      "source": [
        "### Efficiency practice"
      ]
    },
    {
      "cell_type": "code",
      "metadata": {
        "id": "hHHoFHjVRsy0"
      },
      "source": [
        "\"\"\"input manatees: a list of \"manatees\", where one manatee is represented by a dictionary\r\n",
        "a single manatee has properties like \"name\", \"age\", et cetera\r\n",
        "n = the number of elements in \"manatees\"\r\n",
        "m = the number of properties per \"manatee\" (i.e. the number of keys in a manatee dictionary)\"\"\"\r\n",
        "\r\n",
        "def example1(manatees):\r\n",
        "    for manatee in manatees:\r\n",
        "        print (manatee['name'])\r\n",
        "\r\n",
        "#O(n)\r\n",
        "\r\n",
        "def example2(manatees):\r\n",
        "    print (manatees[0]['name'])\r\n",
        "    print (manatees[0]['age'])\r\n",
        "\r\n",
        "#O(1)\r\n",
        "\r\n",
        "def example3(manatees):\r\n",
        "    for manatee in manatees:\r\n",
        "        for manatee_property in manatee:\r\n",
        "            print (manatee_property, \": \", manatee[manatee_property])\r\n",
        "\r\n",
        "#O(n*m)\r\n",
        "\r\n",
        "def example4(manatees):\r\n",
        "    oldest_manatee = \"No manatees here!\"\r\n",
        "    for manatee1 in manatees:\r\n",
        "        for manatee2 in manatees:\r\n",
        "            if manatee1['age'] < manatee2['age']:\r\n",
        "                oldest_manatee = manatee2['name']\r\n",
        "            else:\r\n",
        "                oldest_manatee = manatee1['name']\r\n",
        "    print (oldest_manatee)\r\n",
        "\r\n",
        "#O(n^2)"
      ],
      "execution_count": null,
      "outputs": []
    }
  ]
}