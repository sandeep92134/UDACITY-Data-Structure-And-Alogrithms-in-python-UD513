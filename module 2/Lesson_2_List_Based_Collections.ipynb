{
  "nbformat": 4,
  "nbformat_minor": 0,
  "metadata": {
    "colab": {
      "name": "Lesson 2: List-Based Collections",
      "provenance": [],
      "authorship_tag": "ABX9TyONys4K1cYUS0osofzHCrG7",
      "include_colab_link": true
    },
    "kernelspec": {
      "name": "python3",
      "display_name": "Python 3"
    }
  },
  "cells": [
    {
      "cell_type": "markdown",
      "metadata": {
        "id": "view-in-github",
        "colab_type": "text"
      },
      "source": [
        "<a href=\"https://colab.research.google.com/github/sandeep92134/UDACITY-Data-Structure-And-Alogrithms-in-python-UD513/blob/master/module%202/Lesson_2_List_Based_Collections.ipynb\" target=\"_parent\"><img src=\"https://colab.research.google.com/assets/colab-badge.svg\" alt=\"Open In Colab\"/></a>"
      ]
    },
    {
      "cell_type": "markdown",
      "metadata": {
        "id": "QJ2KqA_y5Tz1"
      },
      "source": [
        "### linked list pratice"
      ]
    },
    {
      "cell_type": "code",
      "metadata": {
        "colab": {
          "base_uri": "https://localhost:8080/"
        },
        "id": "EYS2uPnKvUR6",
        "outputId": "7b26e02b-8d6b-4281-9cc5-ef359acd0a4d"
      },
      "source": [
        "\"\"\"The LinkedList code from before is provided below.\r\n",
        "Add three functions to the LinkedList.\r\n",
        "\"get_position\" returns the element at a certain position.\r\n",
        "The \"insert\" function will add an element to a particular\r\n",
        "spot in the list.\r\n",
        "\"delete\" will delete the first element with that\r\n",
        "particular value.\r\n",
        "Then, use \"Test Run\" and \"Submit\" to run the test cases\r\n",
        "at the bottom.\"\"\"\r\n",
        "\r\n",
        "class Element(object):\r\n",
        "    def __init__(self, value):\r\n",
        "        self.value = value\r\n",
        "        self.next = None\r\n",
        "        \r\n",
        "class LinkedList(object):\r\n",
        "    def __init__(self, head=None):\r\n",
        "        self.head = head\r\n",
        "        \r\n",
        "    def append(self, new_element):\r\n",
        "        current = self.head\r\n",
        "        if self.head:\r\n",
        "            while current.next:\r\n",
        "                current = current.next\r\n",
        "            current.next = new_element\r\n",
        "        else:\r\n",
        "            self.head = new_element\r\n",
        "            \r\n",
        "    def get_position(self, position):\r\n",
        "        \"\"\"Get an element from a particular position.\r\n",
        "        Assume the first position is \"1\".\r\n",
        "        Return \"None\" if position is not in the list.\"\"\"\r\n",
        "        counter = 1\r\n",
        "        current = self.head\r\n",
        "        if position < 1:\r\n",
        "            return None\r\n",
        "        while current and counter <= position:\r\n",
        "            if counter == position:\r\n",
        "                return current\r\n",
        "            current = current.next\r\n",
        "            counter += 1\r\n",
        "        return None\r\n",
        "    \r\n",
        "    def insert(self, new_element, position):\r\n",
        "        \"\"\"Insert a new node at the given position.\r\n",
        "        Assume the first position is \"1\".\r\n",
        "        Inserting at position 3 means between\r\n",
        "        the 2nd and 3rd elements.\"\"\"\r\n",
        "        counter = 1\r\n",
        "        current = self.head\r\n",
        "        if position > 1:\r\n",
        "            while current and counter < position:\r\n",
        "                if counter == position - 1:\r\n",
        "                    new_element.next = current.next\r\n",
        "                    current.next = new_element\r\n",
        "                current = current.next\r\n",
        "                counter += 1\r\n",
        "        elif position == 1:\r\n",
        "            new_element.next = self.head\r\n",
        "            self.head = new_element\r\n",
        "        pass\r\n",
        "    \r\n",
        "    \r\n",
        "    def delete(self, value):\r\n",
        "        \"\"\"Delete the first node with a given value.\"\"\"\r\n",
        "        current = self.head\r\n",
        "        previous = None\r\n",
        "        while current.value != value and current.next:\r\n",
        "            previous = current\r\n",
        "            current = current.next\r\n",
        "        if current.value == value:\r\n",
        "            if previous:\r\n",
        "                previous.next = current.next\r\n",
        "            else:\r\n",
        "                self.head = current.next\r\n",
        "        pass\r\n",
        "\r\n",
        "# Test cases\r\n",
        "# Set up some Elements\r\n",
        "e1 = Element(1)\r\n",
        "e2 = Element(2)\r\n",
        "e3 = Element(3)\r\n",
        "e4 = Element(4)\r\n",
        "\r\n",
        "# Start setting up a LinkedList\r\n",
        "ll = LinkedList(e1)\r\n",
        "ll.append(e2)\r\n",
        "ll.append(e3)\r\n",
        "\r\n",
        "# Test get_position\r\n",
        "# Should print 3\r\n",
        "print (ll.head.next.next.value)\r\n",
        "# Should also print 3\r\n",
        "print (ll.get_position(3).value)\r\n",
        "\r\n",
        "# Test insert\r\n",
        "ll.insert(e4,3)\r\n",
        "# Should print 4 now\r\n",
        "print (ll.get_position(3).value)\r\n",
        "\r\n",
        "# Test delete\r\n",
        "ll.delete(1)\r\n",
        "# Should print 2 now\r\n",
        "print (ll.get_position(1).value)\r\n",
        "# Should print 4 now\r\n",
        "print (ll.get_position(2).value)\r\n",
        "# Should print 3 now\r\n",
        "print (ll.get_position(3).value)"
      ],
      "execution_count": 1,
      "outputs": [
        {
          "output_type": "stream",
          "text": [
            "3\n",
            "3\n",
            "4\n",
            "2\n",
            "4\n",
            "3\n"
          ],
          "name": "stdout"
        }
      ]
    },
    {
      "cell_type": "markdown",
      "metadata": {
        "id": "4aQdoCr951r4"
      },
      "source": [
        "### solution"
      ]
    },
    {
      "cell_type": "code",
      "metadata": {
        "colab": {
          "base_uri": "https://localhost:8080/"
        },
        "id": "qs3__pZ15tUx",
        "outputId": "a5542cf1-f1fd-4ac0-fa26-491677ded9a4"
      },
      "source": [
        "class Element(object):\r\n",
        "    def __init__(self, value):\r\n",
        "        self.value = value\r\n",
        "        self.next = None\r\n",
        "\r\n",
        "class LinkedList(object):\r\n",
        "    def __init__(self, head=None):\r\n",
        "        self.head = head\r\n",
        "\r\n",
        "    def append(self, new_element):\r\n",
        "        current = self.head\r\n",
        "        if self.head:\r\n",
        "            while current.next:\r\n",
        "                current = current.next\r\n",
        "            current.next = new_element\r\n",
        "        else:\r\n",
        "            self.head = new_element\r\n",
        "\r\n",
        "    def get_position(self, position):\r\n",
        "        counter = 1\r\n",
        "        current = self.head\r\n",
        "        if position < 1:\r\n",
        "            return None\r\n",
        "        while current and counter <= position:\r\n",
        "            if counter == position:\r\n",
        "                return current\r\n",
        "            current = current.next\r\n",
        "            counter += 1\r\n",
        "        return None\r\n",
        "\r\n",
        "    def insert(self, new_element, position):\r\n",
        "        counter = 1\r\n",
        "        current = self.head\r\n",
        "        if position > 1:\r\n",
        "            while current and counter < position:\r\n",
        "                if counter == position - 1:\r\n",
        "                    new_element.next = current.next\r\n",
        "                    current.next = new_element\r\n",
        "                current = current.next\r\n",
        "                counter += 1\r\n",
        "        elif position == 1:\r\n",
        "            new_element.next = self.head\r\n",
        "            self.head = new_element\r\n",
        "\r\n",
        "    def delete(self, value):\r\n",
        "        current = self.head\r\n",
        "        previous = None\r\n",
        "        while current.value != value and current.next:\r\n",
        "            previous = current\r\n",
        "            current = current.next\r\n",
        "        if current.value == value:\r\n",
        "            if previous:\r\n",
        "                previous.next = current.next\r\n",
        "            else:\r\n",
        "                self.head = current.next\r\n",
        "\r\n",
        "# Test cases\r\n",
        "# Set up some Elements\r\n",
        "e1 = Element(1)\r\n",
        "e2 = Element(2)\r\n",
        "e3 = Element(3)\r\n",
        "e4 = Element(4)\r\n",
        "\r\n",
        "# Start setting up a LinkedList\r\n",
        "ll = LinkedList(e1)\r\n",
        "ll.append(e2)\r\n",
        "ll.append(e3)\r\n",
        "\r\n",
        "# Test get_position\r\n",
        "# Should print 3\r\n",
        "print (ll.head.next.next.value)\r\n",
        "# Should also print 3\r\n",
        "print (ll.get_position(3).value)\r\n",
        "\r\n",
        "# Test insert\r\n",
        "ll.insert(e4,3)\r\n",
        "# Should print 4 now\r\n",
        "print (ll.get_position(3).value)\r\n",
        "\r\n",
        "# Test delete\r\n",
        "ll.delete(1)\r\n",
        "# Should print 2 now\r\n",
        "print (ll.get_position(1).value)\r\n",
        "# Should print 4 now\r\n",
        "print (ll.get_position(2).value)\r\n",
        "# Should print 3 now\r\n",
        "print (ll.get_position(3).value)                "
      ],
      "execution_count": 2,
      "outputs": [
        {
          "output_type": "stream",
          "text": [
            "3\n",
            "3\n",
            "4\n",
            "2\n",
            "4\n",
            "3\n"
          ],
          "name": "stdout"
        }
      ]
    },
    {
      "cell_type": "markdown",
      "metadata": {
        "id": "sJ4g-zrb8u9t"
      },
      "source": [
        "### stack pratice"
      ]
    },
    {
      "cell_type": "code",
      "metadata": {
        "id": "aQc92H-Y83Lr"
      },
      "source": [
        "class Element(object):\r\n",
        "    def __init__(self, value):\r\n",
        "        self.value = value\r\n",
        "        self.next = None\r\n",
        "\r\n",
        "class LinkedList(object):\r\n",
        "    def __init__(self, head=None):\r\n",
        "        self.head = head\r\n",
        "\r\n",
        "    def append(self, new_element):\r\n",
        "        current = self.head\r\n",
        "        if self.head:\r\n",
        "            while current.next:\r\n",
        "                current = current.next\r\n",
        "            current.next = new_element\r\n",
        "        else:\r\n",
        "            self.head = new_element\r\n",
        "\r\n",
        "    def insert_first(self, new_element):\r\n",
        "        new_element.next = self.head\r\n",
        "        self.head = new_element\r\n",
        "\r\n",
        "    def delete_first(self):\r\n",
        "        if self.head:\r\n",
        "            deleted_element = self.head\r\n",
        "            temp = deleted_element.next\r\n",
        "            self.head = temp\r\n",
        "            return deleted_element\r\n",
        "        else:\r\n",
        "            return None\r\n",
        "\r\n",
        "class Stack(object):\r\n",
        "    def __init__(self,top=None):\r\n",
        "        self.ll = LinkedList(top)\r\n",
        "\r\n",
        "    def push(self, new_element):\r\n",
        "        self.ll.insert_first(new_element)\r\n",
        "\r\n",
        "    def pop(self):\r\n",
        "        return self.ll.delete_first()"
      ],
      "execution_count": 3,
      "outputs": []
    },
    {
      "cell_type": "code",
      "metadata": {
        "colab": {
          "base_uri": "https://localhost:8080/"
        },
        "id": "d31APH8t9SWf",
        "outputId": "f63efd80-9000-4d7b-ae2e-28dc582b7036"
      },
      "source": [
        "# Test cases\r\n",
        "# Set up some Elements\r\n",
        "e1 = Element(1)\r\n",
        "e2 = Element(2)\r\n",
        "e3 = Element(3)\r\n",
        "e4 = Element(4)\r\n",
        "\r\n",
        "# Start setting up a Stack\r\n",
        "stack = Stack(e1)\r\n",
        "\r\n",
        "# Test stack functionality\r\n",
        "stack.push(e2)\r\n",
        "stack.push(e3)\r\n",
        "print (stack.pop().value)\r\n",
        "print (stack.pop().value)\r\n",
        "print (stack.pop().value)\r\n",
        "print (stack.pop())\r\n",
        "stack.push(e4)\r\n",
        "print (stack.pop().value)"
      ],
      "execution_count": 4,
      "outputs": [
        {
          "output_type": "stream",
          "text": [
            "3\n",
            "2\n",
            "1\n",
            "None\n",
            "4\n"
          ],
          "name": "stdout"
        }
      ]
    },
    {
      "cell_type": "markdown",
      "metadata": {
        "id": "navRvEnJin6e"
      },
      "source": [
        "## Queue Practice"
      ]
    },
    {
      "cell_type": "code",
      "metadata": {
        "colab": {
          "base_uri": "https://localhost:8080/"
        },
        "id": "uFTyodO4inQQ",
        "outputId": "c0592231-4a1e-4bc9-ddda-251184e81b5b"
      },
      "source": [
        "\"\"\"Make a Queue class using a list!\r\n",
        "Hint: You can use any Python list method\r\n",
        "you'd like! Try to write each one in as \r\n",
        "few lines as possible.\r\n",
        "Make sure you pass the test cases too!\"\"\"\r\n",
        "\r\n",
        "\r\n",
        "class Queue(object):\r\n",
        "    def __init__(self, head=None):\r\n",
        "        self.storage = [head]\r\n",
        "\r\n",
        "    def enqueue(self, new_element):\r\n",
        "        self.storage.append(new_element)\r\n",
        "\r\n",
        "    def peek(self):\r\n",
        "        return self.storage[0]\r\n",
        "\r\n",
        "    def dequeue(self):\r\n",
        "        return self.storage.pop(0)\r\n",
        "\r\n",
        "# Setup\r\n",
        "q = Queue(1)\r\n",
        "q.enqueue(2)\r\n",
        "q.enqueue(3)\r\n",
        "\r\n",
        "# Test peek\r\n",
        "# Should be 1\r\n",
        "print(q.peek())\r\n",
        "\r\n",
        "# Test dequeue\r\n",
        "# Should be 1\r\n",
        "print(q.dequeue())\r\n",
        "\r\n",
        "# Test enqueue\r\n",
        "q.enqueue(4)\r\n",
        "# Should be 2\r\n",
        "print(q.dequeue())\r\n",
        "# Should be 3\r\n",
        "print(q.dequeue())\r\n",
        "# Should be 4\r\n",
        "print(q.dequeue())\r\n",
        "q.enqueue(5)\r\n",
        "# Should be 5\r\n",
        "print(q.peek())       "
      ],
      "execution_count": 5,
      "outputs": [
        {
          "output_type": "stream",
          "text": [
            "1\n",
            "1\n",
            "2\n",
            "3\n",
            "4\n",
            "5\n"
          ],
          "name": "stdout"
        }
      ]
    }
  ]
}